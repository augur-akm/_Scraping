{
 "cells": [
  {
   "cell_type": "markdown",
   "metadata": {},
   "source": [
    "https://confluence.spending.gov.ua/pages/viewpage.action?pageId=5800614\n",
    "\n",
    "\n",
    "payload = {\"payers_edrpous\":[\"39883094\",\"09334702\"],\n",
    "           \"recipt_edrpous\":[\"09334702\",\"39883094\"],\n",
    "           \"startdate\" : \"30-09-2015\",\n",
    "           \"enddate\" : \"30-10-2015\" ,\n",
    "           \"regions\":[1,2,3,5]\n",
    "          }\n",
    "          \n",
    "          \n",
    "          \n",
    " url = 'http://api.spending.gov.ua/api/rest/1.0/transactions/'\n",
    "response = requests.post(url, json=payload).json()    "
   ]
  },
  {
   "cell_type": "markdown",
   "metadata": {},
   "source": [
    "Importing the required libraries"
   ]
  },
  {
   "cell_type": "code",
   "execution_count": 1,
   "metadata": {
    "collapsed": true
   },
   "outputs": [],
   "source": [
    "import requests\n",
    "import json\n",
    "import pandas as pd\n",
    "import numpy as np"
   ]
  },
  {
   "cell_type": "markdown",
   "metadata": {},
   "source": [
    "## API on Transactions:"
   ]
  },
  {
   "cell_type": "markdown",
   "metadata": {},
   "source": [
    "Import entities' IDs:\n"
   ]
  },
  {
   "cell_type": "code",
   "execution_count": 40,
   "metadata": {},
   "outputs": [],
   "source": [
    "imported_edrpous = pd.read_csv(\"list_of_entities.csv\", names=[\"entity_code\"])\n",
    "imported_edrpous[\"entity_code\"]=imported_edrpous[\"entity_code\"].apply(int).apply(str)\n",
    "imported_edrpous[\"entity_code\"]=[(8-len(cell))*\"0\"+cell for cell in imported_edrpous[\"entity_code\"]]"
   ]
  },
  {
   "cell_type": "markdown",
   "metadata": {},
   "source": [
    "### V1"
   ]
  },
  {
   "cell_type": "code",
   "execution_count": null,
   "metadata": {
    "collapsed": true
   },
   "outputs": [],
   "source": [
    "url = 'http://api.spending.gov.ua/api/rest/1.0/transactions/'"
   ]
  },
  {
   "cell_type": "code",
   "execution_count": null,
   "metadata": {
    "collapsed": true
   },
   "outputs": [],
   "source": [
    "df_transactions=pd.DataFrame()"
   ]
  },
  {
   "cell_type": "code",
   "execution_count": 119,
   "metadata": {},
   "outputs": [],
   "source": [
    "for entity in imported_edrpous[\"entity_code\"]:    \n",
    "    payload = {\"payers_edrpous\":entity,\n",
    "               #\"recipt_edrpous\":[\"09334702\",\"39883094\"],\n",
    "               \"startdate\" : \"30-09-2015\",\n",
    "               \"enddate\" : \"30-10-2015\" ,\n",
    "               #\"regions\":[1,2,3,5]\n",
    "              }\n",
    "    response = requests.post(url, json=payload).json()\n",
    "    all_transaction_details=[]\n",
    "    for transaction in response[\"response\"][\"transactions\"]:\n",
    "        transaction_details=[]\n",
    "        for element in transaction:\n",
    "            transaction_details.append(transaction[element])\n",
    "        df_transactions.append(transaction_details)"
   ]
  },
  {
   "cell_type": "code",
   "execution_count": 123,
   "metadata": {},
   "outputs": [
    {
     "data": {
      "text/html": [
       "<div>\n",
       "<style>\n",
       "    .dataframe thead tr:only-child th {\n",
       "        text-align: right;\n",
       "    }\n",
       "\n",
       "    .dataframe thead th {\n",
       "        text-align: left;\n",
       "    }\n",
       "\n",
       "    .dataframe tbody tr th {\n",
       "        vertical-align: top;\n",
       "    }\n",
       "</style>\n",
       "<table border=\"1\" class=\"dataframe\">\n",
       "  <thead>\n",
       "    <tr style=\"text-align: right;\">\n",
       "      <th></th>\n",
       "      <th>doc_number</th>\n",
       "      <th>doc_date</th>\n",
       "      <th>doc_v_date</th>\n",
       "      <th>trans_date</th>\n",
       "      <th>amount</th>\n",
       "      <th>payer_edrpou</th>\n",
       "      <th>payer_name</th>\n",
       "      <th>payer_account</th>\n",
       "      <th>payer_mfo</th>\n",
       "      <th>payer_bank</th>\n",
       "      <th>recipt_edrpou</th>\n",
       "      <th>recipt_name</th>\n",
       "      <th>recipt_account</th>\n",
       "      <th>recipt_bank</th>\n",
       "      <th>recipt_mfo</th>\n",
       "      <th>payment_details</th>\n",
       "      <th>doc_add_attr</th>\n",
       "      <th>region_id</th>\n",
       "    </tr>\n",
       "    <tr>\n",
       "      <th>id</th>\n",
       "      <th></th>\n",
       "      <th></th>\n",
       "      <th></th>\n",
       "      <th></th>\n",
       "      <th></th>\n",
       "      <th></th>\n",
       "      <th></th>\n",
       "      <th></th>\n",
       "      <th></th>\n",
       "      <th></th>\n",
       "      <th></th>\n",
       "      <th></th>\n",
       "      <th></th>\n",
       "      <th></th>\n",
       "      <th></th>\n",
       "      <th></th>\n",
       "      <th></th>\n",
       "      <th></th>\n",
       "    </tr>\n",
       "  </thead>\n",
       "  <tbody>\n",
       "    <tr>\n",
       "      <th>5081729</th>\n",
       "      <td>81</td>\n",
       "      <td>29-10-2015</td>\n",
       "      <td>30-10-2015</td>\n",
       "      <td>30-10-2015</td>\n",
       "      <td>674.98</td>\n",
       "      <td>39883094</td>\n",
       "      <td>Слов'янська ОДПІ ГУ ДФС  у Донецьк. об</td>\n",
       "      <td>35215059091200</td>\n",
       "      <td>834016</td>\n",
       "      <td>ГУ ДКСУ У ДОНЕЦЬКІЙ ОБЛАСТІ</td>\n",
       "      <td>39883094</td>\n",
       "      <td>Слов'янська ОДПI ГУ ДФС у Дон обл</td>\n",
       "      <td>37195201010522</td>\n",
       "      <td>834016</td>\n",
       "      <td>ГУ ДКСУ У ДОНЕЦЬКІЙ ОБЛАСТІ</td>\n",
       "      <td>*;101;39883094;КПКВК 3301010 КЕКВ 2111-674,98 ...</td>\n",
       "      <td>None</td>\n",
       "      <td>5</td>\n",
       "    </tr>\n",
       "    <tr>\n",
       "      <th>5077487</th>\n",
       "      <td>6</td>\n",
       "      <td>29-10-2015</td>\n",
       "      <td>30-10-2015</td>\n",
       "      <td>30-10-2015</td>\n",
       "      <td>731.44</td>\n",
       "      <td>39883094</td>\n",
       "      <td>Слов'янська ОДПI ГУ ДФС у Дон обл</td>\n",
       "      <td>37113041091200</td>\n",
       "      <td>834016</td>\n",
       "      <td>ГУ ДКСУ У ДОНЕЦЬКІЙ ОБЛАСТІ</td>\n",
       "      <td>39883094</td>\n",
       "      <td>Слов'янська ОДПI ГУ ДФС у Дон обл</td>\n",
       "      <td>37195201010522</td>\n",
       "      <td>834016</td>\n",
       "      <td>ГУ ДКСУ У ДОНЕЦЬКІЙ ОБЛАСТІ</td>\n",
       "      <td>*;101;xxxx;xxxx-731,44 Утримання єдиного внеск...</td>\n",
       "      <td>None</td>\n",
       "      <td>5</td>\n",
       "    </tr>\n",
       "    <tr>\n",
       "      <th>5078365</th>\n",
       "      <td>214</td>\n",
       "      <td>30-10-2015</td>\n",
       "      <td>30-10-2015</td>\n",
       "      <td>30-10-2015</td>\n",
       "      <td>445.79</td>\n",
       "      <td>39883094</td>\n",
       "      <td>СЛОВ'ЯНСЬКА ОДПI ГУ ДФС У ДОН.ОБ.</td>\n",
       "      <td>37191205010522</td>\n",
       "      <td>834016</td>\n",
       "      <td>ГУ ДКСУ У ДОНЕЦЬКІЙ ОБЛАСТІ</td>\n",
       "      <td>39883094</td>\n",
       "      <td>СЛОВ'ЯНСЬКА ОДПI ГУ ДФС У ДОН.ОБ.</td>\n",
       "      <td>37192204010522</td>\n",
       "      <td>834016</td>\n",
       "      <td>ГУ ДКСУ У ДОНЕЦЬКІЙ ОБЛАСТІ</td>\n",
       "      <td>*;108;xxxx;перерах помил сплач суми по Дзюба І...</td>\n",
       "      <td>None</td>\n",
       "      <td>5</td>\n",
       "    </tr>\n",
       "  </tbody>\n",
       "</table>\n",
       "</div>"
      ],
      "text/plain": [
       "         doc_number    doc_date  doc_v_date  trans_date  amount payer_edrpou  \\\n",
       "id                                                                             \n",
       "5081729  81          29-10-2015  30-10-2015  30-10-2015  674.98     39883094   \n",
       "5077487  6           29-10-2015  30-10-2015  30-10-2015  731.44     39883094   \n",
       "5078365  214         30-10-2015  30-10-2015  30-10-2015  445.79     39883094   \n",
       "\n",
       "                                     payer_name   payer_account payer_mfo  \\\n",
       "id                                                                          \n",
       "5081729  Слов'янська ОДПІ ГУ ДФС  у Донецьк. об  35215059091200    834016   \n",
       "5077487       Слов'янська ОДПI ГУ ДФС у Дон обл  37113041091200    834016   \n",
       "5078365       СЛОВ'ЯНСЬКА ОДПI ГУ ДФС У ДОН.ОБ.  37191205010522    834016   \n",
       "\n",
       "                          payer_bank recipt_edrpou  \\\n",
       "id                                                   \n",
       "5081729  ГУ ДКСУ У ДОНЕЦЬКІЙ ОБЛАСТІ      39883094   \n",
       "5077487  ГУ ДКСУ У ДОНЕЦЬКІЙ ОБЛАСТІ      39883094   \n",
       "5078365  ГУ ДКСУ У ДОНЕЦЬКІЙ ОБЛАСТІ      39883094   \n",
       "\n",
       "                               recipt_name  recipt_account recipt_bank  \\\n",
       "id                                                                       \n",
       "5081729  Слов'янська ОДПI ГУ ДФС у Дон обл  37195201010522      834016   \n",
       "5077487  Слов'янська ОДПI ГУ ДФС у Дон обл  37195201010522      834016   \n",
       "5078365  СЛОВ'ЯНСЬКА ОДПI ГУ ДФС У ДОН.ОБ.  37192204010522      834016   \n",
       "\n",
       "                          recipt_mfo  \\\n",
       "id                                     \n",
       "5081729  ГУ ДКСУ У ДОНЕЦЬКІЙ ОБЛАСТІ   \n",
       "5077487  ГУ ДКСУ У ДОНЕЦЬКІЙ ОБЛАСТІ   \n",
       "5078365  ГУ ДКСУ У ДОНЕЦЬКІЙ ОБЛАСТІ   \n",
       "\n",
       "                                           payment_details doc_add_attr  \\\n",
       "id                                                                        \n",
       "5081729  *;101;39883094;КПКВК 3301010 КЕКВ 2111-674,98 ...         None   \n",
       "5077487  *;101;xxxx;xxxx-731,44 Утримання єдиного внеск...         None   \n",
       "5078365  *;108;xxxx;перерах помил сплач суми по Дзюба І...         None   \n",
       "\n",
       "         region_id  \n",
       "id                  \n",
       "5081729          5  \n",
       "5077487          5  \n",
       "5078365          5  "
      ]
     },
     "execution_count": 123,
     "metadata": {},
     "output_type": "execute_result"
    }
   ],
   "source": [
    "df_transactions.columns = [\"id\", \"doc_number\", \"doc_date\", \"doc_v_date\", \"trans_date\", \n",
    "                           \"amount\",\"payer_edrpou\", \"payer_name\", \"payer_account\", \n",
    "                           \"payer_mfo\", \"payer_bank\", \"recipt_edrpou\", \"recipt_name\", \n",
    "                           \"recipt_account\", \"recipt_bank\", \"recipt_mfo\", \n",
    "                           \"payment_details\", \"doc_add_attr\", \"region_id\"]\n",
    "df_transactions.set_index(\"id\", inplace=True)\n",
    "df_transactions.head(3)"
   ]
  },
  {
   "cell_type": "markdown",
   "metadata": {},
   "source": [
    "### V2"
   ]
  },
  {
   "cell_type": "markdown",
   "metadata": {},
   "source": [
    "url = 'http://api.spending.gov.ua/api/v2/api/transactions/'"
   ]
  }
 ],
 "metadata": {
  "hide_input": false,
  "kernelspec": {
   "display_name": "Python 3",
   "language": "python",
   "name": "python3"
  },
  "language_info": {
   "codemirror_mode": {
    "name": "ipython",
    "version": 3
   },
   "file_extension": ".py",
   "mimetype": "text/x-python",
   "name": "python",
   "nbconvert_exporter": "python",
   "pygments_lexer": "ipython3",
   "version": "3.6.3"
  },
  "toc": {
   "nav_menu": {},
   "number_sections": true,
   "sideBar": true,
   "skip_h1_title": false,
   "toc_cell": false,
   "toc_position": {},
   "toc_section_display": "block",
   "toc_window_display": false
  },
  "varInspector": {
   "cols": {
    "lenName": 16,
    "lenType": 16,
    "lenVar": 40
   },
   "kernels_config": {
    "python": {
     "delete_cmd_postfix": "",
     "delete_cmd_prefix": "del ",
     "library": "var_list.py",
     "varRefreshCmd": "print(var_dic_list())"
    },
    "r": {
     "delete_cmd_postfix": ") ",
     "delete_cmd_prefix": "rm(",
     "library": "var_list.r",
     "varRefreshCmd": "cat(var_dic_list()) "
    }
   },
   "types_to_exclude": [
    "module",
    "function",
    "builtin_function_or_method",
    "instance",
    "_Feature"
   ],
   "window_display": false
  }
 },
 "nbformat": 4,
 "nbformat_minor": 2
}
