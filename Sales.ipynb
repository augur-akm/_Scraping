{
 "cells": [
  {
   "cell_type": "code",
   "execution_count": 1,
   "metadata": {
    "collapsed": true
   },
   "outputs": [],
   "source": [
    "import pandas as pd\n",
    "import numpy as np\n",
    "\n",
    "# for downloading and API\n",
    "import requests\n",
    "import json\n",
    "\n",
    "from tqdm import tqdm_notebook"
   ]
  },
  {
   "cell_type": "markdown",
   "metadata": {},
   "source": [
    "# Get URLs"
   ]
  },
  {
   "cell_type": "markdown",
   "metadata": {},
   "source": [
    "Import data"
   ]
  },
  {
   "cell_type": "code",
   "execution_count": 2,
   "metadata": {
    "collapsed": true
   },
   "outputs": [],
   "source": [
    "auctions = {\"UA-EA-2018-05-04-000064-a\": \"798ee0c7f9f84191b9af1486d81567af\",\n",
    "            \"UA-EA-2018-06-01-000031-b\": \"3ca4d3365a3043f8bb2660bd0af7bcf9\"}\n",
    "\n",
    "auctions_links = []"
   ]
  },
  {
   "cell_type": "code",
   "execution_count": 3,
   "metadata": {},
   "outputs": [
    {
     "data": {
      "text/html": [
       "<div>\n",
       "<style>\n",
       "    .dataframe thead tr:only-child th {\n",
       "        text-align: right;\n",
       "    }\n",
       "\n",
       "    .dataframe thead th {\n",
       "        text-align: left;\n",
       "    }\n",
       "\n",
       "    .dataframe tbody tr th {\n",
       "        vertical-align: top;\n",
       "    }\n",
       "</style>\n",
       "<table border=\"1\" class=\"dataframe\">\n",
       "  <thead>\n",
       "    <tr style=\"text-align: right;\">\n",
       "      <th></th>\n",
       "      <th>auction_id_nice</th>\n",
       "      <th>auction_id_new</th>\n",
       "      <th>passport_link</th>\n",
       "    </tr>\n",
       "  </thead>\n",
       "  <tbody>\n",
       "    <tr>\n",
       "      <th>0</th>\n",
       "      <td>UA-EA-2018-05-04-000064-a</td>\n",
       "      <td>798ee0c7f9f84191b9af1486d81567af</td>\n",
       "      <td>http://torgi.fg.gov.ua/178022</td>\n",
       "    </tr>\n",
       "    <tr>\n",
       "      <th>1</th>\n",
       "      <td>UA-EA-2018-06-01-000031-b</td>\n",
       "      <td>3ca4d3365a3043f8bb2660bd0af7bcf9</td>\n",
       "      <td>http://torgi.fg.gov.ua/127102</td>\n",
       "    </tr>\n",
       "  </tbody>\n",
       "</table>\n",
       "</div>"
      ],
      "text/plain": [
       "             auction_id_nice                    auction_id_new  \\\n",
       "0  UA-EA-2018-05-04-000064-a  798ee0c7f9f84191b9af1486d81567af   \n",
       "1  UA-EA-2018-06-01-000031-b  3ca4d3365a3043f8bb2660bd0af7bcf9   \n",
       "\n",
       "                   passport_link  \n",
       "0  http://torgi.fg.gov.ua/178022  \n",
       "1  http://torgi.fg.gov.ua/127102  "
      ]
     },
     "execution_count": 3,
     "metadata": {},
     "output_type": "execute_result"
    }
   ],
   "source": [
    "#for auction_id_nice, auction_id_new  in tqdm_notebook(auctions.items()):\n",
    "for auction_id_nice, auction_id_new  in auctions.items():\n",
    "    response_auction = requests.get(\"http://public.api.ea.openprocurement.org/api/2.3/auctions/\"+auction_id_new).json()\n",
    "    for doc in response_auction[\"data\"][\"documents\"]:\n",
    "        if doc[\"title\"]==\"Посилання на публічний паспорт активу\":\n",
    "            passport_link = doc[\"url\"]\n",
    "            #print(passport_link)\n",
    "            \n",
    "    auction_list = [auction_id_nice, auction_id_new, passport_link]\n",
    "    auctions_links.append(auction_list)\n",
    "\n",
    "df_auctions_links = pd.DataFrame(auctions_links, columns=[\"auction_id_nice\", \"auction_id_new\", \"passport_link\"])\n",
    "df_auctions_links"
   ]
  },
  {
   "cell_type": "markdown",
   "metadata": {},
   "source": [
    "## Get links on excel files"
   ]
  },
  {
   "cell_type": "code",
   "execution_count": 4,
   "metadata": {
    "collapsed": true
   },
   "outputs": [],
   "source": [
    "from urllib.request import urlopen\n",
    "from bs4 import BeautifulSoup #import the Beautiful soup functions to parse the data returned from the website"
   ]
  },
  {
   "cell_type": "code",
   "execution_count": 5,
   "metadata": {},
   "outputs": [
    {
     "data": {
      "application/vnd.jupyter.widget-view+json": {
       "model_id": "aae510228f6b4928b6e107795838506c",
       "version_major": 2,
       "version_minor": 0
      },
      "text/plain": [
       "A Jupyter Widget"
      ]
     },
     "metadata": {},
     "output_type": "display_data"
    },
    {
     "name": "stdout",
     "output_type": "stream",
     "text": [
      "\n"
     ]
    },
    {
     "data": {
      "text/html": [
       "<div>\n",
       "<style>\n",
       "    .dataframe thead tr:only-child th {\n",
       "        text-align: right;\n",
       "    }\n",
       "\n",
       "    .dataframe thead th {\n",
       "        text-align: left;\n",
       "    }\n",
       "\n",
       "    .dataframe tbody tr th {\n",
       "        vertical-align: top;\n",
       "    }\n",
       "</style>\n",
       "<table border=\"1\" class=\"dataframe\">\n",
       "  <thead>\n",
       "    <tr style=\"text-align: right;\">\n",
       "      <th></th>\n",
       "      <th>auction_id_nice</th>\n",
       "      <th>auction_id_new</th>\n",
       "      <th>passport_link</th>\n",
       "      <th>passport_file</th>\n",
       "    </tr>\n",
       "  </thead>\n",
       "  <tbody>\n",
       "    <tr>\n",
       "      <th>0</th>\n",
       "      <td>UA-EA-2018-05-04-000064-a</td>\n",
       "      <td>798ee0c7f9f84191b9af1486d81567af</td>\n",
       "      <td>http://torgi.fg.gov.ua/178022</td>\n",
       "      <td>http://torgi.fg.gov.ua/upload/iblock/110/1103c...</td>\n",
       "    </tr>\n",
       "    <tr>\n",
       "      <th>1</th>\n",
       "      <td>UA-EA-2018-06-01-000031-b</td>\n",
       "      <td>3ca4d3365a3043f8bb2660bd0af7bcf9</td>\n",
       "      <td>http://torgi.fg.gov.ua/127102</td>\n",
       "      <td>http://torgi.fg.gov.ua/upload/iblock/7d9/7d9c1...</td>\n",
       "    </tr>\n",
       "  </tbody>\n",
       "</table>\n",
       "</div>"
      ],
      "text/plain": [
       "             auction_id_nice                    auction_id_new  \\\n",
       "0  UA-EA-2018-05-04-000064-a  798ee0c7f9f84191b9af1486d81567af   \n",
       "1  UA-EA-2018-06-01-000031-b  3ca4d3365a3043f8bb2660bd0af7bcf9   \n",
       "\n",
       "                   passport_link  \\\n",
       "0  http://torgi.fg.gov.ua/178022   \n",
       "1  http://torgi.fg.gov.ua/127102   \n",
       "\n",
       "                                       passport_file  \n",
       "0  http://torgi.fg.gov.ua/upload/iblock/110/1103c...  \n",
       "1  http://torgi.fg.gov.ua/upload/iblock/7d9/7d9c1...  "
      ]
     },
     "execution_count": 5,
     "metadata": {},
     "output_type": "execute_result"
    }
   ],
   "source": [
    "df_auctions_links[\"passport_file\"] = \"\"\n",
    "\n",
    "for i in tqdm_notebook(range(len(df_auctions_links))):\n",
    "    url = df_auctions_links.iloc[i, -2]\n",
    "    html_page = urlopen(url)\n",
    "    soup = BeautifulSoup(html_page, \"lxml\")\n",
    "    passport_file = \"http://torgi.fg.gov.ua\" + soup.find(\"div\", class_=\"description\").a.get('href')\n",
    "    df_auctions_links.iloc[i, -1] = passport_file\n",
    "    \n",
    "df_auctions_links"
   ]
  },
  {
   "cell_type": "markdown",
   "metadata": {},
   "source": [
    "# Get Data"
   ]
  },
  {
   "cell_type": "code",
   "execution_count": 6,
   "metadata": {},
   "outputs": [
    {
     "data": {
      "text/html": [
       "<div>\n",
       "<style>\n",
       "    .dataframe thead tr:only-child th {\n",
       "        text-align: right;\n",
       "    }\n",
       "\n",
       "    .dataframe thead th {\n",
       "        text-align: left;\n",
       "    }\n",
       "\n",
       "    .dataframe tbody tr th {\n",
       "        vertical-align: top;\n",
       "    }\n",
       "</style>\n",
       "<table border=\"1\" class=\"dataframe\">\n",
       "  <thead>\n",
       "    <tr style=\"text-align: right;\">\n",
       "      <th></th>\n",
       "      <th>auction_id_nice</th>\n",
       "      <th>auction_id_new</th>\n",
       "      <th>passport_link</th>\n",
       "      <th>passport_file</th>\n",
       "    </tr>\n",
       "  </thead>\n",
       "  <tbody>\n",
       "    <tr>\n",
       "      <th>0</th>\n",
       "      <td>UA-EA-2018-05-04-000064-a</td>\n",
       "      <td>798ee0c7f9f84191b9af1486d81567af</td>\n",
       "      <td>http://torgi.fg.gov.ua/178022</td>\n",
       "      <td>http://torgi.fg.gov.ua/upload/iblock/110/1103c...</td>\n",
       "    </tr>\n",
       "    <tr>\n",
       "      <th>1</th>\n",
       "      <td>UA-EA-2018-06-01-000031-b</td>\n",
       "      <td>3ca4d3365a3043f8bb2660bd0af7bcf9</td>\n",
       "      <td>http://torgi.fg.gov.ua/127102</td>\n",
       "      <td>http://torgi.fg.gov.ua/upload/iblock/7d9/7d9c1...</td>\n",
       "    </tr>\n",
       "  </tbody>\n",
       "</table>\n",
       "</div>"
      ],
      "text/plain": [
       "             auction_id_nice                    auction_id_new  \\\n",
       "0  UA-EA-2018-05-04-000064-a  798ee0c7f9f84191b9af1486d81567af   \n",
       "1  UA-EA-2018-06-01-000031-b  3ca4d3365a3043f8bb2660bd0af7bcf9   \n",
       "\n",
       "                   passport_link  \\\n",
       "0  http://torgi.fg.gov.ua/178022   \n",
       "1  http://torgi.fg.gov.ua/127102   \n",
       "\n",
       "                                       passport_file  \n",
       "0  http://torgi.fg.gov.ua/upload/iblock/110/1103c...  \n",
       "1  http://torgi.fg.gov.ua/upload/iblock/7d9/7d9c1...  "
      ]
     },
     "execution_count": 6,
     "metadata": {},
     "output_type": "execute_result"
    }
   ],
   "source": [
    "df_auctions_links"
   ]
  },
  {
   "cell_type": "code",
   "execution_count": 7,
   "metadata": {
    "collapsed": true,
    "run_control": {
     "marked": false
    }
   },
   "outputs": [],
   "source": [
    "df_data_all_raw = pd.DataFrame()"
   ]
  },
  {
   "cell_type": "code",
   "execution_count": 16,
   "metadata": {},
   "outputs": [
    {
     "data": {
      "text/html": [
       "<div>\n",
       "<style>\n",
       "    .dataframe thead tr:only-child th {\n",
       "        text-align: right;\n",
       "    }\n",
       "\n",
       "    .dataframe thead th {\n",
       "        text-align: left;\n",
       "    }\n",
       "\n",
       "    .dataframe tbody tr th {\n",
       "        vertical-align: top;\n",
       "    }\n",
       "</style>\n",
       "<table border=\"1\" class=\"dataframe\">\n",
       "  <thead>\n",
       "    <tr style=\"text-align: right;\">\n",
       "      <th></th>\n",
       "      <th>auction_id_nice</th>\n",
       "      <th>auction_id_new</th>\n",
       "      <th>passport_link</th>\n",
       "      <th>passport_file</th>\n",
       "    </tr>\n",
       "  </thead>\n",
       "  <tbody>\n",
       "    <tr>\n",
       "      <th>0</th>\n",
       "      <td>UA-EA-2018-05-04-000064-a</td>\n",
       "      <td>798ee0c7f9f84191b9af1486d81567af</td>\n",
       "      <td>http://torgi.fg.gov.ua/178022</td>\n",
       "      <td>http://torgi.fg.gov.ua/upload/iblock/110/1103c...</td>\n",
       "    </tr>\n",
       "    <tr>\n",
       "      <th>1</th>\n",
       "      <td>UA-EA-2018-06-01-000031-b</td>\n",
       "      <td>3ca4d3365a3043f8bb2660bd0af7bcf9</td>\n",
       "      <td>http://torgi.fg.gov.ua/127102</td>\n",
       "      <td>http://torgi.fg.gov.ua/upload/iblock/7d9/7d9c1...</td>\n",
       "    </tr>\n",
       "  </tbody>\n",
       "</table>\n",
       "</div>"
      ],
      "text/plain": [
       "             auction_id_nice                    auction_id_new  \\\n",
       "0  UA-EA-2018-05-04-000064-a  798ee0c7f9f84191b9af1486d81567af   \n",
       "1  UA-EA-2018-06-01-000031-b  3ca4d3365a3043f8bb2660bd0af7bcf9   \n",
       "\n",
       "                   passport_link  \\\n",
       "0  http://torgi.fg.gov.ua/178022   \n",
       "1  http://torgi.fg.gov.ua/127102   \n",
       "\n",
       "                                       passport_file  \n",
       "0  http://torgi.fg.gov.ua/upload/iblock/110/1103c...  \n",
       "1  http://torgi.fg.gov.ua/upload/iblock/7d9/7d9c1...  "
      ]
     },
     "execution_count": 16,
     "metadata": {},
     "output_type": "execute_result"
    }
   ],
   "source": [
    "df_auctions_links"
   ]
  },
  {
   "cell_type": "code",
   "execution_count": 19,
   "metadata": {
    "run_control": {
     "marked": false
    },
    "scrolled": false
   },
   "outputs": [
    {
     "data": {
      "application/vnd.jupyter.widget-view+json": {
       "model_id": "2b271facc4e84a7fac1156039406ae41",
       "version_major": 2,
       "version_minor": 0
      },
      "text/plain": [
       "A Jupyter Widget"
      ]
     },
     "metadata": {},
     "output_type": "display_data"
    },
    {
     "name": "stdout",
     "output_type": "stream",
     "text": [
      "Additional data processing should be here\n",
      "UA-EA-2018-05-04-000064-a  processed\n",
      "Additional data processing should be here\n",
      "UA-EA-2018-06-01-000031-b  processed\n",
      "\n"
     ]
    }
   ],
   "source": [
    "for i in tqdm_notebook(range(len(df_auctions_links))):\n",
    "    passport_data = pd.read_excel(df_auctions_links.iloc[i, -1])\n",
    "    passport_data[\"auction_id_nice\"] = df_auctions_links.iloc[i, 0]\n",
    "\n",
    "    print(\"Additional data processing should be here\")\n",
    "    \n",
    "    print(df_auctions_links.iloc[i, 0], \" processed\")\n",
    "    df_data_all_raw = df_data_all_raw.append(passport_data)"
   ]
  }
 ],
 "metadata": {
  "hide_input": false,
  "kernelspec": {
   "display_name": "Python 3",
   "language": "python",
   "name": "python3"
  },
  "language_info": {
   "codemirror_mode": {
    "name": "ipython",
    "version": 3
   },
   "file_extension": ".py",
   "mimetype": "text/x-python",
   "name": "python",
   "nbconvert_exporter": "python",
   "pygments_lexer": "ipython3",
   "version": "3.6.3"
  },
  "toc": {
   "nav_menu": {},
   "number_sections": false,
   "sideBar": true,
   "skip_h1_title": false,
   "toc_cell": false,
   "toc_position": {},
   "toc_section_display": "block",
   "toc_window_display": false
  },
  "varInspector": {
   "cols": {
    "lenName": 16,
    "lenType": 16,
    "lenVar": 40
   },
   "kernels_config": {
    "python": {
     "delete_cmd_postfix": "",
     "delete_cmd_prefix": "del ",
     "library": "var_list.py",
     "varRefreshCmd": "print(var_dic_list())"
    },
    "r": {
     "delete_cmd_postfix": ") ",
     "delete_cmd_prefix": "rm(",
     "library": "var_list.r",
     "varRefreshCmd": "cat(var_dic_list()) "
    }
   },
   "types_to_exclude": [
    "module",
    "function",
    "builtin_function_or_method",
    "instance",
    "_Feature"
   ],
   "window_display": false
  }
 },
 "nbformat": 4,
 "nbformat_minor": 2
}
